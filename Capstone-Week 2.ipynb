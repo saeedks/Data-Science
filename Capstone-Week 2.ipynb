{
 "cells": [
  {
   "cell_type": "markdown",
   "metadata": {},
   "source": [
    "# Road Safety Data for the UK"
   ]
  },
  {
   "cell_type": "markdown",
   "metadata": {},
   "source": [
    "# Table of Contents\n",
    "<a id='Table of Contents'></a>\n",
    "\n",
    "### <a href='#1. Obtaining and Viewing the Data'>1. Obtaining and Viewing the Data</a>\n",
    "\n",
    "### <a href='#2. Preprocessing the Data'>2. Preprocessing the Data</a>\n",
    "\n",
    "* <a href='#2.1. Handling Date and Time'>2.1. Handling Date and Time</a>\n",
    "* <a href='#2.2. Handling Missing Values'>2.2. Handling Missing Values</a>\n",
    "* <a href='#2.3. Merging Dataframes'>2.3. Merging Dataframes</a>\n",
    "* <a href='#2.4. Handling Numerical Data'>2.4. Handling Numerical Data</a>\n",
    "* <a href='#2.5. Handling Categorical Data'>2.5. Handling Categorical Data</a>\n",
    "\n",
    "### <a href='#3. Modeling the Data'>3. Modeling the Data</a>\n",
    "\n",
    "* <a href='#3.1. Train-Test-Split'>3.1. Train-Test-Split</a>\n",
    "* <a href='#3.2. Handling Imbalanced Classes'>3.2. Handling Imbalanced Classes</a>\n",
    "* <a href='#3.3. Training and Evaluating Random Forest Classifier with class_weight'>3.3. Training and Evaluating Random Forest Classifier with class_weight</a>\n",
    "* <a href='#3.4. Training and Evaluating Random Forest Classifier with SMOTE'>3.4. Training and Evaluating Random Forest Classifier with SMOTE</a>"
   ]
  },
  {
   "cell_type": "markdown",
   "metadata": {},
   "source": [
    "### 1. Obtaining and Viewing the Data\n",
    "<a id='1. Obtaining and Viewing the Data'></a>"
   ]
  },
  {
   "cell_type": "code",
   "execution_count": 1,
   "metadata": {},
   "outputs": [],
   "source": [
    "# import the usual suspects ...\n",
    "import pandas as pd\n",
    "import numpy as np\n",
    "import glob\n",
    "\n",
    "import matplotlib.pyplot as plt\n",
    "import seaborn as sns\n",
    "\n",
    "# suppress all warnings\n",
    "import warnings\n",
    "warnings.filterwarnings(\"ignore\")"
   ]
  },
  {
   "cell_type": "markdown",
   "metadata": {},
   "source": [
    "> **Accidents**"
   ]
  },
  {
   "cell_type": "code",
   "execution_count": 2,
   "metadata": {},
   "outputs": [
    {
     "name": "stdout",
     "output_type": "stream",
     "text": [
      "Records: 2047256 \n",
      "Columns: 34\n"
     ]
    },
    {
     "data": {
      "text/html": [
       "<div>\n",
       "<style scoped>\n",
       "    .dataframe tbody tr th:only-of-type {\n",
       "        vertical-align: middle;\n",
       "    }\n",
       "\n",
       "    .dataframe tbody tr th {\n",
       "        vertical-align: top;\n",
       "    }\n",
       "\n",
       "    .dataframe thead th {\n",
       "        text-align: right;\n",
       "    }\n",
       "</style>\n",
       "<table border=\"1\" class=\"dataframe\">\n",
       "  <thead>\n",
       "    <tr style=\"text-align: right;\">\n",
       "      <th></th>\n",
       "      <th>Accident_Index</th>\n",
       "      <th>1st_Road_Class</th>\n",
       "      <th>1st_Road_Number</th>\n",
       "      <th>2nd_Road_Class</th>\n",
       "      <th>2nd_Road_Number</th>\n",
       "      <th>Accident_Severity</th>\n",
       "      <th>Carriageway_Hazards</th>\n",
       "      <th>Date</th>\n",
       "      <th>Day_of_Week</th>\n",
       "      <th>Did_Police_Officer_Attend_Scene_of_Accident</th>\n",
       "      <th>...</th>\n",
       "      <th>Police_Force</th>\n",
       "      <th>Road_Surface_Conditions</th>\n",
       "      <th>Road_Type</th>\n",
       "      <th>Special_Conditions_at_Site</th>\n",
       "      <th>Speed_limit</th>\n",
       "      <th>Time</th>\n",
       "      <th>Urban_or_Rural_Area</th>\n",
       "      <th>Weather_Conditions</th>\n",
       "      <th>Year</th>\n",
       "      <th>InScotland</th>\n",
       "    </tr>\n",
       "  </thead>\n",
       "  <tbody>\n",
       "    <tr>\n",
       "      <th>0</th>\n",
       "      <td>200501BS00001</td>\n",
       "      <td>A</td>\n",
       "      <td>3218.0</td>\n",
       "      <td>NaN</td>\n",
       "      <td>0.0</td>\n",
       "      <td>Serious</td>\n",
       "      <td>None</td>\n",
       "      <td>2005-01-04</td>\n",
       "      <td>Tuesday</td>\n",
       "      <td>1.0</td>\n",
       "      <td>...</td>\n",
       "      <td>Metropolitan Police</td>\n",
       "      <td>Wet or damp</td>\n",
       "      <td>Single carriageway</td>\n",
       "      <td>None</td>\n",
       "      <td>30.0</td>\n",
       "      <td>17:42</td>\n",
       "      <td>Urban</td>\n",
       "      <td>Raining no high winds</td>\n",
       "      <td>2005</td>\n",
       "      <td>No</td>\n",
       "    </tr>\n",
       "    <tr>\n",
       "      <th>1</th>\n",
       "      <td>200501BS00002</td>\n",
       "      <td>B</td>\n",
       "      <td>450.0</td>\n",
       "      <td>C</td>\n",
       "      <td>0.0</td>\n",
       "      <td>Slight</td>\n",
       "      <td>None</td>\n",
       "      <td>2005-01-05</td>\n",
       "      <td>Wednesday</td>\n",
       "      <td>1.0</td>\n",
       "      <td>...</td>\n",
       "      <td>Metropolitan Police</td>\n",
       "      <td>Dry</td>\n",
       "      <td>Dual carriageway</td>\n",
       "      <td>None</td>\n",
       "      <td>30.0</td>\n",
       "      <td>17:36</td>\n",
       "      <td>Urban</td>\n",
       "      <td>Fine no high winds</td>\n",
       "      <td>2005</td>\n",
       "      <td>No</td>\n",
       "    </tr>\n",
       "    <tr>\n",
       "      <th>2</th>\n",
       "      <td>200501BS00003</td>\n",
       "      <td>C</td>\n",
       "      <td>0.0</td>\n",
       "      <td>NaN</td>\n",
       "      <td>0.0</td>\n",
       "      <td>Slight</td>\n",
       "      <td>None</td>\n",
       "      <td>2005-01-06</td>\n",
       "      <td>Thursday</td>\n",
       "      <td>1.0</td>\n",
       "      <td>...</td>\n",
       "      <td>Metropolitan Police</td>\n",
       "      <td>Dry</td>\n",
       "      <td>Single carriageway</td>\n",
       "      <td>None</td>\n",
       "      <td>30.0</td>\n",
       "      <td>00:15</td>\n",
       "      <td>Urban</td>\n",
       "      <td>Fine no high winds</td>\n",
       "      <td>2005</td>\n",
       "      <td>No</td>\n",
       "    </tr>\n",
       "    <tr>\n",
       "      <th>3</th>\n",
       "      <td>200501BS00004</td>\n",
       "      <td>A</td>\n",
       "      <td>3220.0</td>\n",
       "      <td>NaN</td>\n",
       "      <td>0.0</td>\n",
       "      <td>Slight</td>\n",
       "      <td>None</td>\n",
       "      <td>2005-01-07</td>\n",
       "      <td>Friday</td>\n",
       "      <td>1.0</td>\n",
       "      <td>...</td>\n",
       "      <td>Metropolitan Police</td>\n",
       "      <td>Dry</td>\n",
       "      <td>Single carriageway</td>\n",
       "      <td>None</td>\n",
       "      <td>30.0</td>\n",
       "      <td>10:35</td>\n",
       "      <td>Urban</td>\n",
       "      <td>Fine no high winds</td>\n",
       "      <td>2005</td>\n",
       "      <td>No</td>\n",
       "    </tr>\n",
       "    <tr>\n",
       "      <th>4</th>\n",
       "      <td>200501BS00005</td>\n",
       "      <td>Unclassified</td>\n",
       "      <td>0.0</td>\n",
       "      <td>NaN</td>\n",
       "      <td>0.0</td>\n",
       "      <td>Slight</td>\n",
       "      <td>None</td>\n",
       "      <td>2005-01-10</td>\n",
       "      <td>Monday</td>\n",
       "      <td>1.0</td>\n",
       "      <td>...</td>\n",
       "      <td>Metropolitan Police</td>\n",
       "      <td>Wet or damp</td>\n",
       "      <td>Single carriageway</td>\n",
       "      <td>None</td>\n",
       "      <td>30.0</td>\n",
       "      <td>21:13</td>\n",
       "      <td>Urban</td>\n",
       "      <td>Fine no high winds</td>\n",
       "      <td>2005</td>\n",
       "      <td>No</td>\n",
       "    </tr>\n",
       "  </tbody>\n",
       "</table>\n",
       "<p>5 rows × 34 columns</p>\n",
       "</div>"
      ],
      "text/plain": [
       "  Accident_Index 1st_Road_Class  1st_Road_Number 2nd_Road_Class  \\\n",
       "0  200501BS00001              A           3218.0            NaN   \n",
       "1  200501BS00002              B            450.0              C   \n",
       "2  200501BS00003              C              0.0            NaN   \n",
       "3  200501BS00004              A           3220.0            NaN   \n",
       "4  200501BS00005   Unclassified              0.0            NaN   \n",
       "\n",
       "   2nd_Road_Number Accident_Severity Carriageway_Hazards        Date  \\\n",
       "0              0.0           Serious                None  2005-01-04   \n",
       "1              0.0            Slight                None  2005-01-05   \n",
       "2              0.0            Slight                None  2005-01-06   \n",
       "3              0.0            Slight                None  2005-01-07   \n",
       "4              0.0            Slight                None  2005-01-10   \n",
       "\n",
       "  Day_of_Week  Did_Police_Officer_Attend_Scene_of_Accident  ...  \\\n",
       "0     Tuesday                                          1.0  ...   \n",
       "1   Wednesday                                          1.0  ...   \n",
       "2    Thursday                                          1.0  ...   \n",
       "3      Friday                                          1.0  ...   \n",
       "4      Monday                                          1.0  ...   \n",
       "\n",
       "          Police_Force Road_Surface_Conditions           Road_Type  \\\n",
       "0  Metropolitan Police             Wet or damp  Single carriageway   \n",
       "1  Metropolitan Police                     Dry    Dual carriageway   \n",
       "2  Metropolitan Police                     Dry  Single carriageway   \n",
       "3  Metropolitan Police                     Dry  Single carriageway   \n",
       "4  Metropolitan Police             Wet or damp  Single carriageway   \n",
       "\n",
       "  Special_Conditions_at_Site Speed_limit   Time  Urban_or_Rural_Area  \\\n",
       "0                       None        30.0  17:42                Urban   \n",
       "1                       None        30.0  17:36                Urban   \n",
       "2                       None        30.0  00:15                Urban   \n",
       "3                       None        30.0  10:35                Urban   \n",
       "4                       None        30.0  21:13                Urban   \n",
       "\n",
       "      Weather_Conditions  Year InScotland  \n",
       "0  Raining no high winds  2005         No  \n",
       "1     Fine no high winds  2005         No  \n",
       "2     Fine no high winds  2005         No  \n",
       "3     Fine no high winds  2005         No  \n",
       "4     Fine no high winds  2005         No  \n",
       "\n",
       "[5 rows x 34 columns]"
      ]
     },
     "execution_count": 2,
     "metadata": {},
     "output_type": "execute_result"
    }
   ],
   "source": [
    "accidents = pd.read_csv('Accident_Information.csv')\n",
    "print('Records:', accidents.shape[0], '\\nColumns:', accidents.shape[1])\n",
    "accidents.head()"
   ]
  },
  {
   "cell_type": "code",
   "execution_count": 3,
   "metadata": {},
   "outputs": [
    {
     "name": "stdout",
     "output_type": "stream",
     "text": [
      "<class 'pandas.core.frame.DataFrame'>\n",
      "RangeIndex: 2047256 entries, 0 to 2047255\n",
      "Data columns (total 34 columns):\n",
      " #   Column                                       Dtype  \n",
      "---  ------                                       -----  \n",
      " 0   Accident_Index                               object \n",
      " 1   1st_Road_Class                               object \n",
      " 2   1st_Road_Number                              float64\n",
      " 3   2nd_Road_Class                               object \n",
      " 4   2nd_Road_Number                              float64\n",
      " 5   Accident_Severity                            object \n",
      " 6   Carriageway_Hazards                          object \n",
      " 7   Date                                         object \n",
      " 8   Day_of_Week                                  object \n",
      " 9   Did_Police_Officer_Attend_Scene_of_Accident  float64\n",
      " 10  Junction_Control                             object \n",
      " 11  Junction_Detail                              object \n",
      " 12  Latitude                                     float64\n",
      " 13  Light_Conditions                             object \n",
      " 14  Local_Authority_(District)                   object \n",
      " 15  Local_Authority_(Highway)                    object \n",
      " 16  Location_Easting_OSGR                        float64\n",
      " 17  Location_Northing_OSGR                       float64\n",
      " 18  Longitude                                    float64\n",
      " 19  LSOA_of_Accident_Location                    object \n",
      " 20  Number_of_Casualties                         int64  \n",
      " 21  Number_of_Vehicles                           int64  \n",
      " 22  Pedestrian_Crossing-Human_Control            float64\n",
      " 23  Pedestrian_Crossing-Physical_Facilities      float64\n",
      " 24  Police_Force                                 object \n",
      " 25  Road_Surface_Conditions                      object \n",
      " 26  Road_Type                                    object \n",
      " 27  Special_Conditions_at_Site                   object \n",
      " 28  Speed_limit                                  float64\n",
      " 29  Time                                         object \n",
      " 30  Urban_or_Rural_Area                          object \n",
      " 31  Weather_Conditions                           object \n",
      " 32  Year                                         int64  \n",
      " 33  InScotland                                   object \n",
      "dtypes: float64(10), int64(3), object(21)\n",
      "memory usage: 531.1+ MB\n"
     ]
    }
   ],
   "source": [
    "accidents.info()"
   ]
  },
  {
   "cell_type": "code",
   "execution_count": 4,
   "metadata": {},
   "outputs": [
    {
     "data": {
      "text/html": [
       "<div>\n",
       "<style scoped>\n",
       "    .dataframe tbody tr th:only-of-type {\n",
       "        vertical-align: middle;\n",
       "    }\n",
       "\n",
       "    .dataframe tbody tr th {\n",
       "        vertical-align: top;\n",
       "    }\n",
       "\n",
       "    .dataframe thead th {\n",
       "        text-align: right;\n",
       "    }\n",
       "</style>\n",
       "<table border=\"1\" class=\"dataframe\">\n",
       "  <thead>\n",
       "    <tr style=\"text-align: right;\">\n",
       "      <th></th>\n",
       "      <th>count</th>\n",
       "      <th>mean</th>\n",
       "      <th>std</th>\n",
       "      <th>min</th>\n",
       "      <th>25%</th>\n",
       "      <th>50%</th>\n",
       "      <th>75%</th>\n",
       "      <th>max</th>\n",
       "    </tr>\n",
       "  </thead>\n",
       "  <tbody>\n",
       "    <tr>\n",
       "      <th>1st_Road_Number</th>\n",
       "      <td>2047254.0</td>\n",
       "      <td>992.105099</td>\n",
       "      <td>1809.407936</td>\n",
       "      <td>0.000000</td>\n",
       "      <td>0.000000</td>\n",
       "      <td>118.000000</td>\n",
       "      <td>702.000000</td>\n",
       "      <td>9.999000e+03</td>\n",
       "    </tr>\n",
       "    <tr>\n",
       "      <th>2nd_Road_Number</th>\n",
       "      <td>2029663.0</td>\n",
       "      <td>372.815342</td>\n",
       "      <td>1287.796383</td>\n",
       "      <td>0.000000</td>\n",
       "      <td>0.000000</td>\n",
       "      <td>0.000000</td>\n",
       "      <td>0.000000</td>\n",
       "      <td>9.999000e+03</td>\n",
       "    </tr>\n",
       "    <tr>\n",
       "      <th>Did_Police_Officer_Attend_Scene_of_Accident</th>\n",
       "      <td>2046978.0</td>\n",
       "      <td>1.202319</td>\n",
       "      <td>0.408194</td>\n",
       "      <td>1.000000</td>\n",
       "      <td>1.000000</td>\n",
       "      <td>1.000000</td>\n",
       "      <td>1.000000</td>\n",
       "      <td>3.000000e+00</td>\n",
       "    </tr>\n",
       "    <tr>\n",
       "      <th>Latitude</th>\n",
       "      <td>2047082.0</td>\n",
       "      <td>52.559780</td>\n",
       "      <td>1.445506</td>\n",
       "      <td>49.912941</td>\n",
       "      <td>51.485404</td>\n",
       "      <td>52.237583</td>\n",
       "      <td>53.455901</td>\n",
       "      <td>6.075754e+01</td>\n",
       "    </tr>\n",
       "    <tr>\n",
       "      <th>Location_Easting_OSGR</th>\n",
       "      <td>2047092.0</td>\n",
       "      <td>441446.210036</td>\n",
       "      <td>95496.198208</td>\n",
       "      <td>64950.000000</td>\n",
       "      <td>378063.500000</td>\n",
       "      <td>443050.000000</td>\n",
       "      <td>524298.250000</td>\n",
       "      <td>6.555400e+05</td>\n",
       "    </tr>\n",
       "    <tr>\n",
       "      <th>Location_Northing_OSGR</th>\n",
       "      <td>2047092.0</td>\n",
       "      <td>296885.465668</td>\n",
       "      <td>160527.257527</td>\n",
       "      <td>10290.000000</td>\n",
       "      <td>177756.750000</td>\n",
       "      <td>261183.500000</td>\n",
       "      <td>395610.000000</td>\n",
       "      <td>1.208800e+06</td>\n",
       "    </tr>\n",
       "    <tr>\n",
       "      <th>Longitude</th>\n",
       "      <td>2047081.0</td>\n",
       "      <td>-1.410155</td>\n",
       "      <td>1.403532</td>\n",
       "      <td>-7.516225</td>\n",
       "      <td>-2.329610</td>\n",
       "      <td>-1.362233</td>\n",
       "      <td>-0.205260</td>\n",
       "      <td>1.762010e+00</td>\n",
       "    </tr>\n",
       "    <tr>\n",
       "      <th>Number_of_Casualties</th>\n",
       "      <td>2047256.0</td>\n",
       "      <td>1.345843</td>\n",
       "      <td>0.817963</td>\n",
       "      <td>1.000000</td>\n",
       "      <td>1.000000</td>\n",
       "      <td>1.000000</td>\n",
       "      <td>1.000000</td>\n",
       "      <td>9.300000e+01</td>\n",
       "    </tr>\n",
       "    <tr>\n",
       "      <th>Number_of_Vehicles</th>\n",
       "      <td>2047256.0</td>\n",
       "      <td>1.833525</td>\n",
       "      <td>0.715054</td>\n",
       "      <td>1.000000</td>\n",
       "      <td>1.000000</td>\n",
       "      <td>2.000000</td>\n",
       "      <td>2.000000</td>\n",
       "      <td>6.700000e+01</td>\n",
       "    </tr>\n",
       "    <tr>\n",
       "      <th>Pedestrian_Crossing-Human_Control</th>\n",
       "      <td>2044336.0</td>\n",
       "      <td>0.010417</td>\n",
       "      <td>0.135113</td>\n",
       "      <td>0.000000</td>\n",
       "      <td>0.000000</td>\n",
       "      <td>0.000000</td>\n",
       "      <td>0.000000</td>\n",
       "      <td>2.000000e+00</td>\n",
       "    </tr>\n",
       "    <tr>\n",
       "      <th>Pedestrian_Crossing-Physical_Facilities</th>\n",
       "      <td>2043696.0</td>\n",
       "      <td>0.751802</td>\n",
       "      <td>1.835289</td>\n",
       "      <td>0.000000</td>\n",
       "      <td>0.000000</td>\n",
       "      <td>0.000000</td>\n",
       "      <td>0.000000</td>\n",
       "      <td>8.000000e+00</td>\n",
       "    </tr>\n",
       "    <tr>\n",
       "      <th>Speed_limit</th>\n",
       "      <td>2047219.0</td>\n",
       "      <td>38.843597</td>\n",
       "      <td>14.147910</td>\n",
       "      <td>0.000000</td>\n",
       "      <td>30.000000</td>\n",
       "      <td>30.000000</td>\n",
       "      <td>50.000000</td>\n",
       "      <td>7.000000e+01</td>\n",
       "    </tr>\n",
       "    <tr>\n",
       "      <th>Year</th>\n",
       "      <td>2047256.0</td>\n",
       "      <td>2010.523806</td>\n",
       "      <td>3.765624</td>\n",
       "      <td>2005.000000</td>\n",
       "      <td>2007.000000</td>\n",
       "      <td>2010.000000</td>\n",
       "      <td>2014.000000</td>\n",
       "      <td>2.017000e+03</td>\n",
       "    </tr>\n",
       "  </tbody>\n",
       "</table>\n",
       "</div>"
      ],
      "text/plain": [
       "                                                 count           mean  \\\n",
       "1st_Road_Number                              2047254.0     992.105099   \n",
       "2nd_Road_Number                              2029663.0     372.815342   \n",
       "Did_Police_Officer_Attend_Scene_of_Accident  2046978.0       1.202319   \n",
       "Latitude                                     2047082.0      52.559780   \n",
       "Location_Easting_OSGR                        2047092.0  441446.210036   \n",
       "Location_Northing_OSGR                       2047092.0  296885.465668   \n",
       "Longitude                                    2047081.0      -1.410155   \n",
       "Number_of_Casualties                         2047256.0       1.345843   \n",
       "Number_of_Vehicles                           2047256.0       1.833525   \n",
       "Pedestrian_Crossing-Human_Control            2044336.0       0.010417   \n",
       "Pedestrian_Crossing-Physical_Facilities      2043696.0       0.751802   \n",
       "Speed_limit                                  2047219.0      38.843597   \n",
       "Year                                         2047256.0    2010.523806   \n",
       "\n",
       "                                                       std           min  \\\n",
       "1st_Road_Number                                1809.407936      0.000000   \n",
       "2nd_Road_Number                                1287.796383      0.000000   \n",
       "Did_Police_Officer_Attend_Scene_of_Accident       0.408194      1.000000   \n",
       "Latitude                                          1.445506     49.912941   \n",
       "Location_Easting_OSGR                         95496.198208  64950.000000   \n",
       "Location_Northing_OSGR                       160527.257527  10290.000000   \n",
       "Longitude                                         1.403532     -7.516225   \n",
       "Number_of_Casualties                              0.817963      1.000000   \n",
       "Number_of_Vehicles                                0.715054      1.000000   \n",
       "Pedestrian_Crossing-Human_Control                 0.135113      0.000000   \n",
       "Pedestrian_Crossing-Physical_Facilities           1.835289      0.000000   \n",
       "Speed_limit                                      14.147910      0.000000   \n",
       "Year                                              3.765624   2005.000000   \n",
       "\n",
       "                                                       25%            50%  \\\n",
       "1st_Road_Number                                   0.000000     118.000000   \n",
       "2nd_Road_Number                                   0.000000       0.000000   \n",
       "Did_Police_Officer_Attend_Scene_of_Accident       1.000000       1.000000   \n",
       "Latitude                                         51.485404      52.237583   \n",
       "Location_Easting_OSGR                        378063.500000  443050.000000   \n",
       "Location_Northing_OSGR                       177756.750000  261183.500000   \n",
       "Longitude                                        -2.329610      -1.362233   \n",
       "Number_of_Casualties                              1.000000       1.000000   \n",
       "Number_of_Vehicles                                1.000000       2.000000   \n",
       "Pedestrian_Crossing-Human_Control                 0.000000       0.000000   \n",
       "Pedestrian_Crossing-Physical_Facilities           0.000000       0.000000   \n",
       "Speed_limit                                      30.000000      30.000000   \n",
       "Year                                           2007.000000    2010.000000   \n",
       "\n",
       "                                                       75%           max  \n",
       "1st_Road_Number                                 702.000000  9.999000e+03  \n",
       "2nd_Road_Number                                   0.000000  9.999000e+03  \n",
       "Did_Police_Officer_Attend_Scene_of_Accident       1.000000  3.000000e+00  \n",
       "Latitude                                         53.455901  6.075754e+01  \n",
       "Location_Easting_OSGR                        524298.250000  6.555400e+05  \n",
       "Location_Northing_OSGR                       395610.000000  1.208800e+06  \n",
       "Longitude                                        -0.205260  1.762010e+00  \n",
       "Number_of_Casualties                              1.000000  9.300000e+01  \n",
       "Number_of_Vehicles                                2.000000  6.700000e+01  \n",
       "Pedestrian_Crossing-Human_Control                 0.000000  2.000000e+00  \n",
       "Pedestrian_Crossing-Physical_Facilities           0.000000  8.000000e+00  \n",
       "Speed_limit                                      50.000000  7.000000e+01  \n",
       "Year                                           2014.000000  2.017000e+03  "
      ]
     },
     "execution_count": 4,
     "metadata": {},
     "output_type": "execute_result"
    }
   ],
   "source": [
    "accidents.describe().T"
   ]
  },
  {
   "cell_type": "code",
   "execution_count": 5,
   "metadata": {},
   "outputs": [
    {
     "data": {
      "text/plain": [
       "Accident_Index                                      0\n",
       "1st_Road_Class                                      0\n",
       "1st_Road_Number                                     2\n",
       "2nd_Road_Class                                 844272\n",
       "2nd_Road_Number                                 17593\n",
       "Accident_Severity                                   0\n",
       "Carriageway_Hazards                                 0\n",
       "Date                                                0\n",
       "Day_of_Week                                         0\n",
       "Did_Police_Officer_Attend_Scene_of_Accident       278\n",
       "Junction_Control                                    0\n",
       "Junction_Detail                                     0\n",
       "Latitude                                          174\n",
       "Light_Conditions                                    0\n",
       "Local_Authority_(District)                          0\n",
       "Local_Authority_(Highway)                           0\n",
       "Location_Easting_OSGR                             164\n",
       "Location_Northing_OSGR                            164\n",
       "Longitude                                         175\n",
       "LSOA_of_Accident_Location                      144953\n",
       "Number_of_Casualties                                0\n",
       "Number_of_Vehicles                                  0\n",
       "Pedestrian_Crossing-Human_Control                2920\n",
       "Pedestrian_Crossing-Physical_Facilities          3560\n",
       "Police_Force                                        0\n",
       "Road_Surface_Conditions                             0\n",
       "Road_Type                                           0\n",
       "Special_Conditions_at_Site                          0\n",
       "Speed_limit                                        37\n",
       "Time                                              156\n",
       "Urban_or_Rural_Area                                 0\n",
       "Weather_Conditions                                  0\n",
       "Year                                                0\n",
       "InScotland                                         53\n",
       "dtype: int64"
      ]
     },
     "execution_count": 5,
     "metadata": {},
     "output_type": "execute_result"
    }
   ],
   "source": [
    "accidents.isna().sum()"
   ]
  },
  {
   "cell_type": "markdown",
   "metadata": {},
   "source": [
    "**Vehicles**"
   ]
  },
  {
   "cell_type": "code",
   "execution_count": 6,
   "metadata": {},
   "outputs": [
    {
     "name": "stdout",
     "output_type": "stream",
     "text": [
      "Records: 2177205 \n",
      "Columns: 24\n"
     ]
    },
    {
     "data": {
      "text/html": [
       "<div>\n",
       "<style scoped>\n",
       "    .dataframe tbody tr th:only-of-type {\n",
       "        vertical-align: middle;\n",
       "    }\n",
       "\n",
       "    .dataframe tbody tr th {\n",
       "        vertical-align: top;\n",
       "    }\n",
       "\n",
       "    .dataframe thead th {\n",
       "        text-align: right;\n",
       "    }\n",
       "</style>\n",
       "<table border=\"1\" class=\"dataframe\">\n",
       "  <thead>\n",
       "    <tr style=\"text-align: right;\">\n",
       "      <th></th>\n",
       "      <th>Accident_Index</th>\n",
       "      <th>Age_Band_of_Driver</th>\n",
       "      <th>Age_of_Vehicle</th>\n",
       "      <th>Driver_Home_Area_Type</th>\n",
       "      <th>Driver_IMD_Decile</th>\n",
       "      <th>Engine_Capacity_.CC.</th>\n",
       "      <th>Hit_Object_in_Carriageway</th>\n",
       "      <th>Hit_Object_off_Carriageway</th>\n",
       "      <th>Journey_Purpose_of_Driver</th>\n",
       "      <th>Junction_Location</th>\n",
       "      <th>...</th>\n",
       "      <th>Skidding_and_Overturning</th>\n",
       "      <th>Towing_and_Articulation</th>\n",
       "      <th>Vehicle_Leaving_Carriageway</th>\n",
       "      <th>Vehicle_Location.Restricted_Lane</th>\n",
       "      <th>Vehicle_Manoeuvre</th>\n",
       "      <th>Vehicle_Reference</th>\n",
       "      <th>Vehicle_Type</th>\n",
       "      <th>Was_Vehicle_Left_Hand_Drive</th>\n",
       "      <th>X1st_Point_of_Impact</th>\n",
       "      <th>Year</th>\n",
       "    </tr>\n",
       "  </thead>\n",
       "  <tbody>\n",
       "    <tr>\n",
       "      <th>0</th>\n",
       "      <td>200401BS00001</td>\n",
       "      <td>26 - 35</td>\n",
       "      <td>3.0</td>\n",
       "      <td>Urban area</td>\n",
       "      <td>4.0</td>\n",
       "      <td>1588.0</td>\n",
       "      <td>None</td>\n",
       "      <td>None</td>\n",
       "      <td>Data missing or out of range</td>\n",
       "      <td>Data missing or out of range</td>\n",
       "      <td>...</td>\n",
       "      <td>None</td>\n",
       "      <td>No tow/articulation</td>\n",
       "      <td>Did not leave carriageway</td>\n",
       "      <td>0.0</td>\n",
       "      <td>Going ahead other</td>\n",
       "      <td>2</td>\n",
       "      <td>109</td>\n",
       "      <td>Data missing or out of range</td>\n",
       "      <td>Front</td>\n",
       "      <td>2004</td>\n",
       "    </tr>\n",
       "    <tr>\n",
       "      <th>1</th>\n",
       "      <td>200401BS00002</td>\n",
       "      <td>26 - 35</td>\n",
       "      <td>NaN</td>\n",
       "      <td>Urban area</td>\n",
       "      <td>3.0</td>\n",
       "      <td>NaN</td>\n",
       "      <td>None</td>\n",
       "      <td>None</td>\n",
       "      <td>Data missing or out of range</td>\n",
       "      <td>Data missing or out of range</td>\n",
       "      <td>...</td>\n",
       "      <td>None</td>\n",
       "      <td>No tow/articulation</td>\n",
       "      <td>Did not leave carriageway</td>\n",
       "      <td>0.0</td>\n",
       "      <td>Going ahead other</td>\n",
       "      <td>1</td>\n",
       "      <td>109</td>\n",
       "      <td>Data missing or out of range</td>\n",
       "      <td>Front</td>\n",
       "      <td>2004</td>\n",
       "    </tr>\n",
       "    <tr>\n",
       "      <th>2</th>\n",
       "      <td>200401BS00003</td>\n",
       "      <td>26 - 35</td>\n",
       "      <td>4.0</td>\n",
       "      <td>Data missing or out of range</td>\n",
       "      <td>NaN</td>\n",
       "      <td>998.0</td>\n",
       "      <td>None</td>\n",
       "      <td>None</td>\n",
       "      <td>Data missing or out of range</td>\n",
       "      <td>Data missing or out of range</td>\n",
       "      <td>...</td>\n",
       "      <td>None</td>\n",
       "      <td>No tow/articulation</td>\n",
       "      <td>Did not leave carriageway</td>\n",
       "      <td>0.0</td>\n",
       "      <td>Turning right</td>\n",
       "      <td>1</td>\n",
       "      <td>109</td>\n",
       "      <td>Data missing or out of range</td>\n",
       "      <td>Front</td>\n",
       "      <td>2004</td>\n",
       "    </tr>\n",
       "    <tr>\n",
       "      <th>3</th>\n",
       "      <td>200401BS00003</td>\n",
       "      <td>66 - 75</td>\n",
       "      <td>NaN</td>\n",
       "      <td>Data missing or out of range</td>\n",
       "      <td>NaN</td>\n",
       "      <td>NaN</td>\n",
       "      <td>None</td>\n",
       "      <td>None</td>\n",
       "      <td>Data missing or out of range</td>\n",
       "      <td>Data missing or out of range</td>\n",
       "      <td>...</td>\n",
       "      <td>None</td>\n",
       "      <td>No tow/articulation</td>\n",
       "      <td>Did not leave carriageway</td>\n",
       "      <td>0.0</td>\n",
       "      <td>Going ahead other</td>\n",
       "      <td>2</td>\n",
       "      <td>109</td>\n",
       "      <td>Data missing or out of range</td>\n",
       "      <td>Front</td>\n",
       "      <td>2004</td>\n",
       "    </tr>\n",
       "    <tr>\n",
       "      <th>4</th>\n",
       "      <td>200401BS00004</td>\n",
       "      <td>26 - 35</td>\n",
       "      <td>1.0</td>\n",
       "      <td>Urban area</td>\n",
       "      <td>4.0</td>\n",
       "      <td>124.0</td>\n",
       "      <td>None</td>\n",
       "      <td>None</td>\n",
       "      <td>Data missing or out of range</td>\n",
       "      <td>Data missing or out of range</td>\n",
       "      <td>...</td>\n",
       "      <td>None</td>\n",
       "      <td>No tow/articulation</td>\n",
       "      <td>Did not leave carriageway</td>\n",
       "      <td>0.0</td>\n",
       "      <td>Going ahead other</td>\n",
       "      <td>1</td>\n",
       "      <td>Motorcycle 125cc and under</td>\n",
       "      <td>Data missing or out of range</td>\n",
       "      <td>Front</td>\n",
       "      <td>2004</td>\n",
       "    </tr>\n",
       "  </tbody>\n",
       "</table>\n",
       "<p>5 rows × 24 columns</p>\n",
       "</div>"
      ],
      "text/plain": [
       "  Accident_Index Age_Band_of_Driver  Age_of_Vehicle  \\\n",
       "0  200401BS00001            26 - 35             3.0   \n",
       "1  200401BS00002            26 - 35             NaN   \n",
       "2  200401BS00003            26 - 35             4.0   \n",
       "3  200401BS00003            66 - 75             NaN   \n",
       "4  200401BS00004            26 - 35             1.0   \n",
       "\n",
       "          Driver_Home_Area_Type  Driver_IMD_Decile  Engine_Capacity_.CC.  \\\n",
       "0                    Urban area                4.0                1588.0   \n",
       "1                    Urban area                3.0                   NaN   \n",
       "2  Data missing or out of range                NaN                 998.0   \n",
       "3  Data missing or out of range                NaN                   NaN   \n",
       "4                    Urban area                4.0                 124.0   \n",
       "\n",
       "  Hit_Object_in_Carriageway Hit_Object_off_Carriageway  \\\n",
       "0                      None                       None   \n",
       "1                      None                       None   \n",
       "2                      None                       None   \n",
       "3                      None                       None   \n",
       "4                      None                       None   \n",
       "\n",
       "      Journey_Purpose_of_Driver             Junction_Location  ...  \\\n",
       "0  Data missing or out of range  Data missing or out of range  ...   \n",
       "1  Data missing or out of range  Data missing or out of range  ...   \n",
       "2  Data missing or out of range  Data missing or out of range  ...   \n",
       "3  Data missing or out of range  Data missing or out of range  ...   \n",
       "4  Data missing or out of range  Data missing or out of range  ...   \n",
       "\n",
       "  Skidding_and_Overturning Towing_and_Articulation  \\\n",
       "0                     None     No tow/articulation   \n",
       "1                     None     No tow/articulation   \n",
       "2                     None     No tow/articulation   \n",
       "3                     None     No tow/articulation   \n",
       "4                     None     No tow/articulation   \n",
       "\n",
       "  Vehicle_Leaving_Carriageway Vehicle_Location.Restricted_Lane  \\\n",
       "0   Did not leave carriageway                              0.0   \n",
       "1   Did not leave carriageway                              0.0   \n",
       "2   Did not leave carriageway                              0.0   \n",
       "3   Did not leave carriageway                              0.0   \n",
       "4   Did not leave carriageway                              0.0   \n",
       "\n",
       "   Vehicle_Manoeuvre Vehicle_Reference                Vehicle_Type  \\\n",
       "0  Going ahead other                 2                         109   \n",
       "1  Going ahead other                 1                         109   \n",
       "2      Turning right                 1                         109   \n",
       "3  Going ahead other                 2                         109   \n",
       "4  Going ahead other                 1  Motorcycle 125cc and under   \n",
       "\n",
       "    Was_Vehicle_Left_Hand_Drive X1st_Point_of_Impact  Year  \n",
       "0  Data missing or out of range                Front  2004  \n",
       "1  Data missing or out of range                Front  2004  \n",
       "2  Data missing or out of range                Front  2004  \n",
       "3  Data missing or out of range                Front  2004  \n",
       "4  Data missing or out of range                Front  2004  \n",
       "\n",
       "[5 rows x 24 columns]"
      ]
     },
     "execution_count": 6,
     "metadata": {},
     "output_type": "execute_result"
    }
   ],
   "source": [
    "vehicles = pd.read_csv('Vehicle_Information.csv', encoding='ISO-8859-1')\n",
    "print('Records:', vehicles.shape[0], '\\nColumns:', vehicles.shape[1])\n",
    "vehicles.head()"
   ]
  },
  {
   "cell_type": "code",
   "execution_count": 7,
   "metadata": {},
   "outputs": [
    {
     "name": "stdout",
     "output_type": "stream",
     "text": [
      "<class 'pandas.core.frame.DataFrame'>\n",
      "RangeIndex: 2177205 entries, 0 to 2177204\n",
      "Data columns (total 24 columns):\n",
      " #   Column                            Dtype  \n",
      "---  ------                            -----  \n",
      " 0   Accident_Index                    object \n",
      " 1   Age_Band_of_Driver                object \n",
      " 2   Age_of_Vehicle                    float64\n",
      " 3   Driver_Home_Area_Type             object \n",
      " 4   Driver_IMD_Decile                 float64\n",
      " 5   Engine_Capacity_.CC.              float64\n",
      " 6   Hit_Object_in_Carriageway         object \n",
      " 7   Hit_Object_off_Carriageway        object \n",
      " 8   Journey_Purpose_of_Driver         object \n",
      " 9   Junction_Location                 object \n",
      " 10  make                              object \n",
      " 11  model                             object \n",
      " 12  Propulsion_Code                   object \n",
      " 13  Sex_of_Driver                     object \n",
      " 14  Skidding_and_Overturning          object \n",
      " 15  Towing_and_Articulation           object \n",
      " 16  Vehicle_Leaving_Carriageway       object \n",
      " 17  Vehicle_Location.Restricted_Lane  float64\n",
      " 18  Vehicle_Manoeuvre                 object \n",
      " 19  Vehicle_Reference                 int64  \n",
      " 20  Vehicle_Type                      object \n",
      " 21  Was_Vehicle_Left_Hand_Drive       object \n",
      " 22  X1st_Point_of_Impact              object \n",
      " 23  Year                              int64  \n",
      "dtypes: float64(4), int64(2), object(18)\n",
      "memory usage: 398.7+ MB\n"
     ]
    }
   ],
   "source": [
    "vehicles.info()"
   ]
  },
  {
   "cell_type": "code",
   "execution_count": 8,
   "metadata": {},
   "outputs": [
    {
     "data": {
      "text/html": [
       "<div>\n",
       "<style scoped>\n",
       "    .dataframe tbody tr th:only-of-type {\n",
       "        vertical-align: middle;\n",
       "    }\n",
       "\n",
       "    .dataframe tbody tr th {\n",
       "        vertical-align: top;\n",
       "    }\n",
       "\n",
       "    .dataframe thead th {\n",
       "        text-align: right;\n",
       "    }\n",
       "</style>\n",
       "<table border=\"1\" class=\"dataframe\">\n",
       "  <thead>\n",
       "    <tr style=\"text-align: right;\">\n",
       "      <th></th>\n",
       "      <th>count</th>\n",
       "      <th>mean</th>\n",
       "      <th>std</th>\n",
       "      <th>min</th>\n",
       "      <th>25%</th>\n",
       "      <th>50%</th>\n",
       "      <th>75%</th>\n",
       "      <th>max</th>\n",
       "    </tr>\n",
       "  </thead>\n",
       "  <tbody>\n",
       "    <tr>\n",
       "      <th>Age_of_Vehicle</th>\n",
       "      <td>1819056.0</td>\n",
       "      <td>7.108167</td>\n",
       "      <td>4.725886</td>\n",
       "      <td>1.0</td>\n",
       "      <td>3.0</td>\n",
       "      <td>7.0</td>\n",
       "      <td>10.0</td>\n",
       "      <td>111.0</td>\n",
       "    </tr>\n",
       "    <tr>\n",
       "      <th>Driver_IMD_Decile</th>\n",
       "      <td>1442393.0</td>\n",
       "      <td>5.387559</td>\n",
       "      <td>2.821651</td>\n",
       "      <td>1.0</td>\n",
       "      <td>3.0</td>\n",
       "      <td>5.0</td>\n",
       "      <td>8.0</td>\n",
       "      <td>10.0</td>\n",
       "    </tr>\n",
       "    <tr>\n",
       "      <th>Engine_Capacity_.CC.</th>\n",
       "      <td>1911344.0</td>\n",
       "      <td>2042.233961</td>\n",
       "      <td>1950.143170</td>\n",
       "      <td>1.0</td>\n",
       "      <td>1299.0</td>\n",
       "      <td>1598.0</td>\n",
       "      <td>1997.0</td>\n",
       "      <td>96000.0</td>\n",
       "    </tr>\n",
       "    <tr>\n",
       "      <th>Vehicle_Location.Restricted_Lane</th>\n",
       "      <td>2175888.0</td>\n",
       "      <td>0.107304</td>\n",
       "      <td>0.879964</td>\n",
       "      <td>0.0</td>\n",
       "      <td>0.0</td>\n",
       "      <td>0.0</td>\n",
       "      <td>0.0</td>\n",
       "      <td>9.0</td>\n",
       "    </tr>\n",
       "    <tr>\n",
       "      <th>Vehicle_Reference</th>\n",
       "      <td>2177205.0</td>\n",
       "      <td>1.553405</td>\n",
       "      <td>0.775248</td>\n",
       "      <td>1.0</td>\n",
       "      <td>1.0</td>\n",
       "      <td>1.0</td>\n",
       "      <td>2.0</td>\n",
       "      <td>91.0</td>\n",
       "    </tr>\n",
       "    <tr>\n",
       "      <th>Year</th>\n",
       "      <td>2177205.0</td>\n",
       "      <td>2010.934147</td>\n",
       "      <td>3.694375</td>\n",
       "      <td>2004.0</td>\n",
       "      <td>2008.0</td>\n",
       "      <td>2011.0</td>\n",
       "      <td>2014.0</td>\n",
       "      <td>2016.0</td>\n",
       "    </tr>\n",
       "  </tbody>\n",
       "</table>\n",
       "</div>"
      ],
      "text/plain": [
       "                                      count         mean          std     min  \\\n",
       "Age_of_Vehicle                    1819056.0     7.108167     4.725886     1.0   \n",
       "Driver_IMD_Decile                 1442393.0     5.387559     2.821651     1.0   \n",
       "Engine_Capacity_.CC.              1911344.0  2042.233961  1950.143170     1.0   \n",
       "Vehicle_Location.Restricted_Lane  2175888.0     0.107304     0.879964     0.0   \n",
       "Vehicle_Reference                 2177205.0     1.553405     0.775248     1.0   \n",
       "Year                              2177205.0  2010.934147     3.694375  2004.0   \n",
       "\n",
       "                                     25%     50%     75%      max  \n",
       "Age_of_Vehicle                       3.0     7.0    10.0    111.0  \n",
       "Driver_IMD_Decile                    3.0     5.0     8.0     10.0  \n",
       "Engine_Capacity_.CC.              1299.0  1598.0  1997.0  96000.0  \n",
       "Vehicle_Location.Restricted_Lane     0.0     0.0     0.0      9.0  \n",
       "Vehicle_Reference                    1.0     1.0     2.0     91.0  \n",
       "Year                              2008.0  2011.0  2014.0   2016.0  "
      ]
     },
     "execution_count": 8,
     "metadata": {},
     "output_type": "execute_result"
    }
   ],
   "source": [
    "vehicles.describe().T"
   ]
  },
  {
   "cell_type": "code",
   "execution_count": 9,
   "metadata": {},
   "outputs": [
    {
     "data": {
      "text/plain": [
       "Accident_Index                           0\n",
       "Age_Band_of_Driver                       0\n",
       "Age_of_Vehicle                      358149\n",
       "Driver_Home_Area_Type                    0\n",
       "Driver_IMD_Decile                   734812\n",
       "Engine_Capacity_.CC.                265861\n",
       "Hit_Object_in_Carriageway                0\n",
       "Hit_Object_off_Carriageway               0\n",
       "Journey_Purpose_of_Driver                0\n",
       "Junction_Location                        0\n",
       "make                                110845\n",
       "model                               325331\n",
       "Propulsion_Code                     245843\n",
       "Sex_of_Driver                            0\n",
       "Skidding_and_Overturning                 0\n",
       "Towing_and_Articulation                  0\n",
       "Vehicle_Leaving_Carriageway              0\n",
       "Vehicle_Location.Restricted_Lane      1317\n",
       "Vehicle_Manoeuvre                        0\n",
       "Vehicle_Reference                        0\n",
       "Vehicle_Type                             0\n",
       "Was_Vehicle_Left_Hand_Drive              0\n",
       "X1st_Point_of_Impact                     0\n",
       "Year                                     0\n",
       "dtype: int64"
      ]
     },
     "execution_count": 9,
     "metadata": {},
     "output_type": "execute_result"
    }
   ],
   "source": [
    "vehicles.isna().sum()"
   ]
  },
  {
   "cell_type": "markdown",
   "metadata": {},
   "source": [
    "*Back to: <a href='#Table of Contents'> Table of Contents</a>*\n",
    "### 2. Preprocessing the Data\n",
    "<a id='2. Preprocessing the Data'></a>"
   ]
  },
  {
   "cell_type": "markdown",
   "metadata": {},
   "source": [
    "#### 2.1. Handling Date and Time\n",
    "<a id='2.1. Handling Date and Time'></a>"
   ]
  },
  {
   "cell_type": "markdown",
   "metadata": {},
   "source": [
    "We had our `Date` columnwith values not properly stored in the correct format. Let's do this now:"
   ]
  },
  {
   "cell_type": "code",
   "execution_count": 10,
   "metadata": {},
   "outputs": [
    {
     "name": "stdout",
     "output_type": "stream",
     "text": [
      "<class 'pandas.core.frame.DataFrame'>\n",
      "RangeIndex: 2047256 entries, 0 to 2047255\n",
      "Data columns (total 8 columns):\n",
      " #   Column                                       Dtype         \n",
      "---  ------                                       -----         \n",
      " 0   Accident_Severity                            object        \n",
      " 1   Carriageway_Hazards                          object        \n",
      " 2   Date                                         datetime64[ns]\n",
      " 3   Day_of_Week                                  object        \n",
      " 4   Did_Police_Officer_Attend_Scene_of_Accident  float64       \n",
      " 5   Junction_Control                             object        \n",
      " 6   Junction_Detail                              object        \n",
      " 7   Latitude                                     float64       \n",
      "dtypes: datetime64[ns](1), float64(2), object(5)\n",
      "memory usage: 125.0+ MB\n"
     ]
    }
   ],
   "source": [
    "accidents['Date']= pd.to_datetime(accidents['Date'], format=\"%Y-%m-%d\")\n",
    "\n",
    "# check\n",
    "accidents.iloc[:, 5:13].info()"
   ]
  },
  {
   "cell_type": "markdown",
   "metadata": {},
   "source": [
    "Next, let's define a new column that groups the `Time` the accidents happened into one of five options:\n",
    "- Morning Rush from 5am to 10am --> value 1\n",
    "- Office Hours from 10am to 3pm (or: 10:00 - 15:00) --> value 2\n",
    "- Afternoon Rush from 3pm to 7pm (or: 15:00 - 19:00) --> value 3\n",
    "- Evening from 7pm to 11pm (or: 19:00 - 23:00) --> value 4\n",
    "- Night from 11pm to 5am (or: 23:00 - 05:00) --> value 5"
   ]
  },
  {
   "cell_type": "code",
   "execution_count": 11,
   "metadata": {},
   "outputs": [],
   "source": [
    "# slice first and second string from time column\n",
    "accidents['Hour'] = accidents['Time'].str[0:2]\n",
    "\n",
    "# convert new column to numeric datetype\n",
    "accidents['Hour'] = pd.to_numeric(accidents['Hour'])\n",
    "\n",
    "# drop null values in our new column\n",
    "accidents = accidents.dropna(subset=['Hour'])\n",
    "\n",
    "# cast to integer values\n",
    "accidents['Hour'] = accidents['Hour'].astype('int')"
   ]
  },
  {
   "cell_type": "code",
   "execution_count": 12,
   "metadata": {},
   "outputs": [],
   "source": [
    "# define a function that turns the hours into daytime groups\n",
    "def when_was_it(hour):\n",
    "    if hour >= 5 and hour < 10:\n",
    "        return \"1\"\n",
    "    elif hour >= 10 and hour < 15:\n",
    "        return \"2\"\n",
    "    elif hour >= 15 and hour < 19:\n",
    "        return \"3\"\n",
    "    elif hour >= 19 and hour < 23:\n",
    "        return \"4\"\n",
    "    else:\n",
    "        return \"5\""
   ]
  },
  {
   "cell_type": "code",
   "execution_count": 13,
   "metadata": {},
   "outputs": [],
   "source": [
    "# create a little dictionary to later look up the groups I created\n",
    "daytime_groups = {1: 'Morning: Between 5 and 10', \n",
    "                  2: 'Office Hours: Between 10 and 15', \n",
    "                  3: 'Afternoon Rush: Between 15 and 19', \n",
    "                  4: 'Evening: Between 19 and 23', \n",
    "                  5: 'Night: Between 23 and 5'}"
   ]
  },
  {
   "cell_type": "code",
   "execution_count": 14,
   "metadata": {},
   "outputs": [
    {
     "data": {
      "text/html": [
       "<div>\n",
       "<style scoped>\n",
       "    .dataframe tbody tr th:only-of-type {\n",
       "        vertical-align: middle;\n",
       "    }\n",
       "\n",
       "    .dataframe tbody tr th {\n",
       "        vertical-align: top;\n",
       "    }\n",
       "\n",
       "    .dataframe thead th {\n",
       "        text-align: right;\n",
       "    }\n",
       "</style>\n",
       "<table border=\"1\" class=\"dataframe\">\n",
       "  <thead>\n",
       "    <tr style=\"text-align: right;\">\n",
       "      <th></th>\n",
       "      <th>Time</th>\n",
       "      <th>Hour</th>\n",
       "      <th>Daytime</th>\n",
       "    </tr>\n",
       "  </thead>\n",
       "  <tbody>\n",
       "    <tr>\n",
       "      <th>0</th>\n",
       "      <td>17:42</td>\n",
       "      <td>17</td>\n",
       "      <td>3</td>\n",
       "    </tr>\n",
       "    <tr>\n",
       "      <th>1</th>\n",
       "      <td>17:36</td>\n",
       "      <td>17</td>\n",
       "      <td>3</td>\n",
       "    </tr>\n",
       "    <tr>\n",
       "      <th>2</th>\n",
       "      <td>00:15</td>\n",
       "      <td>0</td>\n",
       "      <td>5</td>\n",
       "    </tr>\n",
       "    <tr>\n",
       "      <th>3</th>\n",
       "      <td>10:35</td>\n",
       "      <td>10</td>\n",
       "      <td>2</td>\n",
       "    </tr>\n",
       "    <tr>\n",
       "      <th>4</th>\n",
       "      <td>21:13</td>\n",
       "      <td>21</td>\n",
       "      <td>4</td>\n",
       "    </tr>\n",
       "  </tbody>\n",
       "</table>\n",
       "</div>"
      ],
      "text/plain": [
       "    Time  Hour Daytime\n",
       "0  17:42    17       3\n",
       "1  17:36    17       3\n",
       "2  00:15     0       5\n",
       "3  10:35    10       2\n",
       "4  21:13    21       4"
      ]
     },
     "execution_count": 14,
     "metadata": {},
     "output_type": "execute_result"
    }
   ],
   "source": [
    "# apply this function to our temporary hour column\n",
    "accidents['Daytime'] = accidents['Hour'].apply(when_was_it)\n",
    "accidents[['Time', 'Hour', 'Daytime']].head()"
   ]
  },
  {
   "cell_type": "code",
   "execution_count": 15,
   "metadata": {},
   "outputs": [],
   "source": [
    "# drop old time column and temporary hour column\n",
    "accidents = accidents.drop(columns=['Time', 'Hour'])"
   ]
  },
  {
   "cell_type": "markdown",
   "metadata": {},
   "source": [
    "#### 2.2. Handling Missing Values\n",
    "<a id='2.2. Handling Missing Values'></a>"
   ]
  },
  {
   "cell_type": "code",
   "execution_count": 16,
   "metadata": {},
   "outputs": [
    {
     "name": "stdout",
     "output_type": "stream",
     "text": [
      "Proportion of Missing Values in Accidents Table: 0.495 %\n"
     ]
    }
   ],
   "source": [
    "print('Proportion of Missing Values in Accidents Table:', \n",
    "      round(accidents.isna().sum().sum()/len(accidents), 3), '%')"
   ]
  },
  {
   "cell_type": "code",
   "execution_count": 17,
   "metadata": {},
   "outputs": [
    {
     "data": {
      "text/plain": [
       "Accident_Index                                      0\n",
       "1st_Road_Class                                      0\n",
       "1st_Road_Number                                     2\n",
       "2nd_Road_Class                                 844186\n",
       "2nd_Road_Number                                 17587\n",
       "Accident_Severity                                   0\n",
       "Carriageway_Hazards                                 0\n",
       "Date                                                0\n",
       "Day_of_Week                                         0\n",
       "Did_Police_Officer_Attend_Scene_of_Accident       277\n",
       "Junction_Control                                    0\n",
       "Junction_Detail                                     0\n",
       "Latitude                                          174\n",
       "Light_Conditions                                    0\n",
       "Local_Authority_(District)                          0\n",
       "Local_Authority_(Highway)                           0\n",
       "Location_Easting_OSGR                             164\n",
       "Location_Northing_OSGR                            164\n",
       "Longitude                                         175\n",
       "LSOA_of_Accident_Location                      144839\n",
       "Number_of_Casualties                                0\n",
       "Number_of_Vehicles                                  0\n",
       "Pedestrian_Crossing-Human_Control                2919\n",
       "Pedestrian_Crossing-Physical_Facilities          3559\n",
       "Police_Force                                        0\n",
       "Road_Surface_Conditions                             0\n",
       "Road_Type                                           0\n",
       "Special_Conditions_at_Site                          0\n",
       "Speed_limit                                        37\n",
       "Urban_or_Rural_Area                                 0\n",
       "Weather_Conditions                                  0\n",
       "Year                                                0\n",
       "InScotland                                         53\n",
       "Daytime                                             0\n",
       "dtype: int64"
      ]
     },
     "execution_count": 17,
     "metadata": {},
     "output_type": "execute_result"
    }
   ],
   "source": [
    "accidents.isna().sum()"
   ]
  },
  {
   "cell_type": "code",
   "execution_count": 18,
   "metadata": {},
   "outputs": [
    {
     "data": {
      "text/plain": [
       "0"
      ]
     },
     "execution_count": 18,
     "metadata": {},
     "output_type": "execute_result"
    }
   ],
   "source": [
    "# drop columns we don't need\n",
    "accidents = accidents.drop(columns=['2nd_Road_Class', '2nd_Road_Number', 'Did_Police_Officer_Attend_Scene_of_Accident',\n",
    "                                    'Location_Easting_OSGR', 'Location_Northing_OSGR', \n",
    "                                    'Longitude', 'Latitude', 'LSOA_of_Accident_Location',\n",
    "                                    'Pedestrian_Crossing-Human_Control', 'Pedestrian_Crossing-Physical_Facilities',\n",
    "                                    'InScotland'])\n",
    "\n",
    "# drop remaining records with NaN's\n",
    "accidents = accidents.dropna()\n",
    "\n",
    "# check if we have no NaN's anymore\n",
    "accidents.isna().sum().sum()"
   ]
  },
  {
   "cell_type": "code",
   "execution_count": 19,
   "metadata": {},
   "outputs": [
    {
     "name": "stdout",
     "output_type": "stream",
     "text": [
      "Proportion of Missing Values in Vehicles Table: 0.938 %\n"
     ]
    }
   ],
   "source": [
    "print('Proportion of Missing Values in Vehicles Table:', \n",
    "      round(vehicles.isna().sum().sum()/len(vehicles),3), '%')"
   ]
  },
  {
   "cell_type": "code",
   "execution_count": 20,
   "metadata": {},
   "outputs": [
    {
     "data": {
      "text/plain": [
       "Accident_Index                           0\n",
       "Age_Band_of_Driver                       0\n",
       "Age_of_Vehicle                      358149\n",
       "Driver_Home_Area_Type                    0\n",
       "Driver_IMD_Decile                   734812\n",
       "Engine_Capacity_.CC.                265861\n",
       "Hit_Object_in_Carriageway                0\n",
       "Hit_Object_off_Carriageway               0\n",
       "Journey_Purpose_of_Driver                0\n",
       "Junction_Location                        0\n",
       "make                                110845\n",
       "model                               325331\n",
       "Propulsion_Code                     245843\n",
       "Sex_of_Driver                            0\n",
       "Skidding_and_Overturning                 0\n",
       "Towing_and_Articulation                  0\n",
       "Vehicle_Leaving_Carriageway              0\n",
       "Vehicle_Location.Restricted_Lane      1317\n",
       "Vehicle_Manoeuvre                        0\n",
       "Vehicle_Reference                        0\n",
       "Vehicle_Type                             0\n",
       "Was_Vehicle_Left_Hand_Drive              0\n",
       "X1st_Point_of_Impact                     0\n",
       "Year                                     0\n",
       "dtype: int64"
      ]
     },
     "execution_count": 20,
     "metadata": {},
     "output_type": "execute_result"
    }
   ],
   "source": [
    "vehicles.isna().sum()"
   ]
  },
  {
   "cell_type": "markdown",
   "metadata": {},
   "source": [
    "*Back to: <a href='#Table of Contents'> Table of Contents</a>*\n",
    "#### 2.3. Merging Dataframes\n",
    "<a id='2.3. Merging Dataframes'></a>"
   ]
  },
  {
   "cell_type": "code",
   "execution_count": 21,
   "metadata": {},
   "outputs": [
    {
     "data": {
      "text/plain": [
       "Accident_Index               0\n",
       "Accident_Severity            0\n",
       "Daytime                      0\n",
       "Speed_limit                  0\n",
       "Urban_or_Rural_Area          0\n",
       "Age_Band_of_Driver           0\n",
       "Age_of_Vehicle          337900\n",
       "Sex_of_Driver                0\n",
       "Engine_Capacity_.CC.    250266\n",
       "Vehicle_Manoeuvre            0\n",
       "dtype: int64"
      ]
     },
     "execution_count": 21,
     "metadata": {},
     "output_type": "execute_result"
    }
   ],
   "source": [
    "# combine the accidents with the vehicles table\n",
    "df = pd.merge(accidents[['Accident_Index', 'Accident_Severity', 'Daytime', 'Speed_limit', 'Urban_or_Rural_Area']], \n",
    "              vehicles[['Accident_Index', 'Age_Band_of_Driver', 'Age_of_Vehicle', 'Sex_of_Driver', \n",
    "                        'Engine_Capacity_.CC.', 'Vehicle_Manoeuvre']], \n",
    "              on='Accident_Index')\n",
    "\n",
    "df.isna().sum()"
   ]
  },
  {
   "cell_type": "code",
   "execution_count": 22,
   "metadata": {},
   "outputs": [
    {
     "data": {
      "text/plain": [
       "0"
      ]
     },
     "execution_count": 22,
     "metadata": {},
     "output_type": "execute_result"
    }
   ],
   "source": [
    "df = df.dropna()\n",
    "df.isna().sum().sum()"
   ]
  },
  {
   "cell_type": "code",
   "execution_count": 23,
   "metadata": {},
   "outputs": [
    {
     "name": "stdout",
     "output_type": "stream",
     "text": [
      "<class 'pandas.core.frame.DataFrame'>\n",
      "Int64Index: 1704137 entries, 0 to 2058195\n",
      "Data columns (total 10 columns):\n",
      " #   Column                Dtype  \n",
      "---  ------                -----  \n",
      " 0   Accident_Index        object \n",
      " 1   Accident_Severity     object \n",
      " 2   Daytime               object \n",
      " 3   Speed_limit           float64\n",
      " 4   Urban_or_Rural_Area   object \n",
      " 5   Age_Band_of_Driver    object \n",
      " 6   Age_of_Vehicle        float64\n",
      " 7   Sex_of_Driver         object \n",
      " 8   Engine_Capacity_.CC.  float64\n",
      " 9   Vehicle_Manoeuvre     object \n",
      "dtypes: float64(3), object(7)\n",
      "memory usage: 143.0+ MB\n"
     ]
    }
   ],
   "source": [
    "df.info()    "
   ]
  },
  {
   "cell_type": "code",
   "execution_count": 24,
   "metadata": {},
   "outputs": [
    {
     "name": "stdout",
     "output_type": "stream",
     "text": [
      "<class 'pandas.core.frame.DataFrame'>\n",
      "Int64Index: 1704137 entries, 0 to 2058195\n",
      "Data columns (total 10 columns):\n",
      " #   Column                Dtype   \n",
      "---  ------                -----   \n",
      " 0   Accident_Index        object  \n",
      " 1   Accident_Severity     category\n",
      " 2   Daytime               category\n",
      " 3   Speed_limit           category\n",
      " 4   Urban_or_Rural_Area   category\n",
      " 5   Age_Band_of_Driver    category\n",
      " 6   Age_of_Vehicle        float64 \n",
      " 7   Sex_of_Driver         category\n",
      " 8   Engine_Capacity_.CC.  float64 \n",
      " 9   Vehicle_Manoeuvre     category\n",
      "dtypes: category(7), float64(2), object(1)\n",
      "memory usage: 63.4+ MB\n"
     ]
    }
   ],
   "source": [
    "# cast categorical features - currently stored as string data - to their proper data format\n",
    "for col in ['Accident_Severity', 'Daytime', 'Speed_limit', 'Urban_or_Rural_Area',\n",
    "            'Age_Band_of_Driver', 'Sex_of_Driver', 'Vehicle_Manoeuvre']:\n",
    "    df[col] = df[col].astype('category')\n",
    "    \n",
    "df.info()"
   ]
  },
  {
   "cell_type": "markdown",
   "metadata": {},
   "source": [
    "*Back to: <a href='#Table of Contents'> Table of Contents</a>*\n",
    "#### 2.4. Handling Numerical Data \n",
    "<a id='2.4. Handling Numerical Data'></a>"
   ]
  },
  {
   "cell_type": "markdown",
   "metadata": {},
   "source": [
    "*Detecting Outliers*"
   ]
  },
  {
   "cell_type": "code",
   "execution_count": 25,
   "metadata": {},
   "outputs": [],
   "source": [
    "# define numerical columns\n",
    "num_cols = ['Age_of_Vehicle', 'Engine_Capacity_.CC.']"
   ]
  },
  {
   "cell_type": "code",
   "execution_count": 26,
   "metadata": {},
   "outputs": [
    {
     "data": {
      "image/png": "[encoded data removed]",
      "text/plain": [
       "<Figure size 720x288 with 2 Axes>"
      ]
     },
     "metadata": {},
     "output_type": "display_data"
    }
   ],
   "source": [
    "# plotting boxplots\n",
    "sns.set(style='darkgrid')\n",
    "fig, axes = plt.subplots(2,1, figsize=(10,4))\n",
    "\n",
    "for ax, col in zip(axes, num_cols):\n",
    "    df.boxplot(column=col, grid=False, vert=False, ax=ax)\n",
    "    plt.tight_layout();"
   ]
  },
  {
   "cell_type": "markdown",
   "metadata": {},
   "source": [
    "*Handling Outliers*"
   ]
  },
  {
   "cell_type": "code",
   "execution_count": 27,
   "metadata": {},
   "outputs": [
    {
     "data": {
      "text/plain": [
       "count    1.704137e+06\n",
       "mean     2.034436e+03\n",
       "std      1.909883e+03\n",
       "min      1.000000e+00\n",
       "25%      1.299000e+03\n",
       "50%      1.598000e+03\n",
       "75%      1.997000e+03\n",
       "max      9.600000e+04\n",
       "Name: Engine_Capacity_.CC., dtype: float64"
      ]
     },
     "execution_count": 27,
     "metadata": {},
     "output_type": "execute_result"
    }
   ],
   "source": [
    "df['Engine_Capacity_.CC.'].describe()"
   ]
  },
  {
   "cell_type": "code",
   "execution_count": 28,
   "metadata": {},
   "outputs": [],
   "source": [
    "# phrasing condition\n",
    "condition = (df['Engine_Capacity_.CC.'] < 20000)\n",
    "\n",
    "# keep only records that meet the condition and don't fall within extreme outliers\n",
    "df = df[condition]"
   ]
  },
  {
   "cell_type": "markdown",
   "metadata": {},
   "source": [
    "*Binning Age_of_Vehicle Feature*"
   ]
  },
  {
   "cell_type": "code",
   "execution_count": 29,
   "metadata": {},
   "outputs": [
    {
     "data": {
      "text/plain": [
       "count    1.704053e+06\n",
       "mean     7.113771e+00\n",
       "std      4.706848e+00\n",
       "min      1.000000e+00\n",
       "25%      3.000000e+00\n",
       "50%      7.000000e+00\n",
       "75%      1.000000e+01\n",
       "max      1.110000e+02\n",
       "Name: Age_of_Vehicle, dtype: float64"
      ]
     },
     "execution_count": 29,
     "metadata": {},
     "output_type": "execute_result"
    }
   ],
   "source": [
    "df['Age_of_Vehicle'].describe()"
   ]
  },
  {
   "cell_type": "code",
   "execution_count": 30,
   "metadata": {},
   "outputs": [],
   "source": [
    "age_of_vehicle_bins = {1: '1 to <2 years', \n",
    "                       2: '2 to <3 years', \n",
    "                       3: '3 to <7 years', \n",
    "                       4: '7 to <10 years', \n",
    "                       5: '>=10 years'}"
   ]
  },
  {
   "cell_type": "code",
   "execution_count": 31,
   "metadata": {},
   "outputs": [
    {
     "data": {
      "text/plain": [
       "1    167816\n",
       "2    150202\n",
       "3    529340\n",
       "4    356331\n",
       "5    500364\n",
       "Name: Age_of_Vehicle, dtype: int64"
      ]
     },
     "execution_count": 31,
     "metadata": {},
     "output_type": "execute_result"
    }
   ],
   "source": [
    "# arguments in bins parameter denote left edge of each bin\n",
    "df['Age_of_Vehicle'] = np.digitize(df['Age_of_Vehicle'], bins=[1,2,3,7,10])\n",
    "\n",
    "# convert into categorical column\n",
    "df['Age_of_Vehicle'] = df['Age_of_Vehicle'].astype('category')\n",
    "\n",
    "# check the count within each bucket\n",
    "df['Age_of_Vehicle'].value_counts().sort_index()"
   ]
  },
  {
   "cell_type": "code",
   "execution_count": 32,
   "metadata": {},
   "outputs": [],
   "source": [
    "# re-define numerical feature columns - only one left\n",
    "num_cols = ['Engine_Capacity_.CC.']"
   ]
  },
  {
   "cell_type": "markdown",
   "metadata": {},
   "source": [
    "*Feature Scaling*\n",
    "\n",
    "If you use a distance based algorithm and your numerical features’ range vary widely, the algorithm won’t work properly unless the range of all features is normalized.\n",
    "\n",
    "Tree based models, which we will use here, are not distance based and can handle varying ranges of features. Therefore scaling is not required."
   ]
  },
  {
   "cell_type": "markdown",
   "metadata": {},
   "source": [
    "*Back to: <a href='#Table of Contents'> Table of Contents</a>*\n",
    "#### 2.5. Handling Categorical Data\n",
    "<a id='2.5. Handling Categorical Data'></a>"
   ]
  },
  {
   "cell_type": "code",
   "execution_count": 33,
   "metadata": {},
   "outputs": [
    {
     "data": {
      "text/plain": [
       "(1704053, 9)"
      ]
     },
     "execution_count": 33,
     "metadata": {},
     "output_type": "execute_result"
    }
   ],
   "source": [
    "# define categorical feature columns\n",
    "cat_cols = ['Daytime', 'Speed_limit', 'Urban_or_Rural_Area',\n",
    "            'Age_Band_of_Driver', 'Age_of_Vehicle', 'Sex_of_Driver', 'Vehicle_Manoeuvre']\n",
    "\n",
    "# define target col\n",
    "target_col = ['Accident_Severity']\n",
    "\n",
    "cols = cat_cols + num_cols + target_col\n",
    "\n",
    "# copy dataframe - just to be safe\n",
    "df_model = df[cols].copy()\n",
    "df_model.shape"
   ]
  },
  {
   "cell_type": "markdown",
   "metadata": {},
   "source": [
    "*Encoding categorical features*"
   ]
  },
  {
   "cell_type": "code",
   "execution_count": 34,
   "metadata": {},
   "outputs": [
    {
     "data": {
      "text/plain": [
       "(1704053, 51)"
      ]
     },
     "execution_count": 34,
     "metadata": {},
     "output_type": "execute_result"
    }
   ],
   "source": [
    "# create dummy variables from the categorical features\n",
    "dummies = pd.get_dummies(df_model[cat_cols], drop_first=True)\n",
    "df_model = pd.concat([df_model[num_cols], df_model[target_col], dummies], axis=1)\n",
    "df_model.shape"
   ]
  },
  {
   "cell_type": "code",
   "execution_count": 35,
   "metadata": {},
   "outputs": [
    {
     "data": {
      "text/plain": [
       "0"
      ]
     },
     "execution_count": 35,
     "metadata": {},
     "output_type": "execute_result"
    }
   ],
   "source": [
    "df_model.isna().sum().sum()"
   ]
  },
  {
   "cell_type": "markdown",
   "metadata": {},
   "source": [
    "FROM OTHER NOTEBOOK"
   ]
  },
  {
   "cell_type": "markdown",
   "metadata": {},
   "source": [
    "*Back to: <a href='#Table of Contents'> Table of Contents</a>*\n",
    "### 3. Modeling the Data\n",
    "<a id='3. Modeling the Data'></a>"
   ]
  },
  {
   "cell_type": "markdown",
   "metadata": {},
   "source": [
    "#### 3.1. Train-Test-Split\n",
    "<a id='3.1. Train-Test-Split'></a>"
   ]
  },
  {
   "cell_type": "code",
   "execution_count": 39,
   "metadata": {},
   "outputs": [],
   "source": [
    "# define our features \n",
    "features = df_model.drop(['Accident_Severity'], axis=1)\n",
    "\n",
    "# define our target\n",
    "target = df_model[['Accident_Severity']]"
   ]
  },
  {
   "cell_type": "code",
   "execution_count": 40,
   "metadata": {},
   "outputs": [],
   "source": [
    "from sklearn.model_selection import train_test_split\n",
    "\n",
    "# split our data\n",
    "X_train, X_test, y_train, y_test = train_test_split(features, target, test_size=0.2)"
   ]
  },
  {
   "cell_type": "markdown",
   "metadata": {},
   "source": [
    "#### 3.2. Handling Imbalanced Classes\n",
    "<a id='3.2. Handling Imbalanced Classes'></a>\n",
    "\n",
    "If we have a target vector with highly imbalanced classes ..."
   ]
  },
  {
   "cell_type": "code",
   "execution_count": 41,
   "metadata": {},
   "outputs": [
    {
     "data": {
      "text/plain": [
       "Slight     0.859266\n",
       "Serious    0.127227\n",
       "Fatal      0.013508\n",
       "Name: Accident_Severity, dtype: float64"
      ]
     },
     "execution_count": 41,
     "metadata": {},
     "output_type": "execute_result"
    }
   ],
   "source": [
    "df_model['Accident_Severity'].value_counts(normalize=True)"
   ]
  },
  {
   "cell_type": "markdown",
   "metadata": {},
   "source": [
    "... and we can't apply the best strategy and simply can't collect more data, especially from the minority class, we need to find other ways to deal with imbalanced classes.\n",
    "\n",
    "- A second strategy is to use a model evaluation metric better suited to imbalances classes: confusion matrices, precision, recall, F1 scores, or ROC curves instead of accuracy.\n",
    "- A third strategy is to use the class weighing parameter included in implementations of some models. This allows us to have the algorithm adjust for imbalanced classes.\n",
    "- The fourth and fifth strategies are related: downsampling and upsampling. Several of these resampling stratgies are well summarized in this [blog post by Chris Remmel](https://calremmel.github.io/fraud-detection-part-one.html).\n",
    "\n",
    "Let's focus on class **weight parameters**: The Random Forest Classifier we will use now is a popular classification algorithm and includes a `class_weight` parameter."
   ]
  },
  {
   "cell_type": "markdown",
   "metadata": {},
   "source": [
    "*Back to: <a href='#Table of Contents'> Table of Contents</a>*\n",
    "#### 3.3. Training and Evaluating Random Forest Classifier with class_weight\n",
    "<a id='3.3. Training and Evaluating Random Forest Classifier with class_weight'></a>"
   ]
  },
  {
   "cell_type": "code",
   "execution_count": 42,
   "metadata": {},
   "outputs": [
    {
     "name": "stderr",
     "output_type": "stream",
     "text": [
      "C:\\Users\\ADMIN\\anaconda3\\lib\\site-packages\\sklearn\\ensemble\\weight_boosting.py:29: DeprecationWarning: numpy.core.umath_tests is an internal NumPy module and should not be imported. It will be removed in a future NumPy release.\n",
      "  from numpy.core.umath_tests import inner1d\n"
     ]
    }
   ],
   "source": [
    "# import classifier\n",
    "from sklearn.ensemble import RandomForestClassifier\n",
    "\n",
    "# import metrics\n",
    "from sklearn.metrics import classification_report, confusion_matrix\n",
    "\n",
    "# import evaluation tools\n",
    "from sklearn.model_selection import KFold, cross_val_score"
   ]
  },
  {
   "cell_type": "code",
   "execution_count": 43,
   "metadata": {},
   "outputs": [
    {
     "name": "stdout",
     "output_type": "stream",
     "text": [
      "Classification Report Random Forest - with Entropy and class_weight Parameter: \n",
      "              precision    recall  f1-score   support\n",
      "\n",
      "      Fatal       0.03      0.09      0.04      4718\n",
      "    Serious       0.16      0.24      0.19     43331\n",
      "     Slight       0.87      0.79      0.83    292762\n",
      "\n",
      "avg / total       0.77      0.71      0.74    340811\n",
      "\n"
     ]
    }
   ],
   "source": [
    "# instantiate RandomForestClassifier with entropy and class_weight\n",
    "forest_1 = RandomForestClassifier(random_state=4, criterion='entropy', n_jobs=-1, class_weight='balanced')\n",
    "\n",
    "# train\n",
    "forest_1.fit(X_train, y_train)\n",
    "\n",
    "# predict\n",
    "y_test_preds  = forest_1.predict(X_test)\n",
    "\n",
    "# evaluate\n",
    "report = classification_report(y_test, y_test_preds)\n",
    "print('Classification Report Random Forest - with Entropy and class_weight Parameter: \\n', report)"
   ]
  },
  {
   "cell_type": "code",
   "execution_count": 44,
   "metadata": {
    "scrolled": true
   },
   "outputs": [
    {
     "data": {
      "text/plain": [
       "array([0.35623736, 0.35522625, 0.35525833])"
      ]
     },
     "execution_count": 44,
     "metadata": {},
     "output_type": "execute_result"
    }
   ],
   "source": [
    "# cross-validation with F1 score (more appropriate to imbalanced classes)\n",
    "cross_val_score(forest_1, X_train, y_train, scoring='f1_macro', n_jobs=-1)"
   ]
  },
  {
   "cell_type": "code",
   "execution_count": 45,
   "metadata": {},
   "outputs": [
    {
     "data": {
      "image/png": "[encoded data removed]",
      "text/plain": [
       "<Figure size 432x288 with 1 Axes>"
      ]
     },
     "metadata": {},
     "output_type": "display_data"
    }
   ],
   "source": [
    "# create confusion matrix# create confusion matrix\n",
    "matrix = confusion_matrix(y_test, y_test_preds)\n",
    "\n",
    "# create dataframe\n",
    "class_names = df_model.Accident_Severity.values\n",
    "dataframe = pd.DataFrame(matrix, index=['Fatal', 'Serious', 'Slight'], \n",
    "                         columns=['Fatal', 'Serious', 'Slight'])\n",
    "\n",
    "# create heatmap\n",
    "sns.heatmap(dataframe, annot=True, cbar=None, cmap='Blues')\n",
    "plt.title('Confusion Matrix')\n",
    "plt.tight_layout(), plt.xlabel('True Values'), plt.ylabel('Predicted Values')\n",
    "plt.show()"
   ]
  },
  {
   "cell_type": "markdown",
   "metadata": {},
   "source": [
    "*Back to: <a href='#Table of Contents'> Table of Contents</a>*\n",
    "#### 3.4. Training and Evaluating Random Forest Classifier with SMOTE\n",
    "<a id='3.4. Training and Evaluating Random Forest Classifier with SMOTE'></a>"
   ]
  },
  {
   "cell_type": "markdown",
   "metadata": {},
   "source": [
    "The Random Forest using the `weight_class` parameter did not perform very well on classifying the severity. So let's try one of the resampling strategies to deal properly with our imbalances target classes: **Synthetic Minority Over-sampling Technique (SMOTE)**. Here we're repeatedly sample with replacement from the minority class to make it of equal size as the majority class. To be more specific: We're creating new synthetic data for the minority class - that is representative but not exact duplicate - using K-Nearest Neighbors."
   ]
  },
  {
   "cell_type": "code",
   "execution_count": 46,
   "metadata": {},
   "outputs": [],
   "source": [
    "from imblearn.over_sampling import SMOTE\n"
   ]
  },
  {
   "cell_type": "code",
   "execution_count": 47,
   "metadata": {},
   "outputs": [
    {
     "name": "stdout",
     "output_type": "stream",
     "text": [
      "Before Upsampling with SMOTE:\n",
      "Slight     1464234\n",
      "Serious     216801\n",
      "Fatal        23018\n",
      "Name: Accident_Severity, dtype: int64\n",
      "\n",
      "After Upsampling with SMOTE:\n",
      "Slight     1171472\n",
      "Serious    1171472\n",
      "Fatal      1171472\n",
      "dtype: int64\n"
     ]
    },
    {
     "data": {
      "text/plain": [
       "(None, None)"
      ]
     },
     "execution_count": 47,
     "metadata": {},
     "output_type": "execute_result"
    }
   ],
   "source": [
    "# view previous class distribution\n",
    "print('Before Upsampling with SMOTE:'), print(target['Accident_Severity'].value_counts())\n",
    "\n",
    "# resample data ONLY using training data\n",
    "X_resampled, y_resampled = SMOTE().fit_sample(X_train, y_train) \n",
    "\n",
    "# view synthetic sample class distribution\n",
    "print('\\nAfter Upsampling with SMOTE:'), print(pd.Series(y_resampled).value_counts())"
   ]
  },
  {
   "cell_type": "code",
   "execution_count": 48,
   "metadata": {},
   "outputs": [],
   "source": [
    "# then perform ususal train-test-split\n",
    "X_train, X_test, y_train, y_test = train_test_split(X_resampled, y_resampled, random_state=0)"
   ]
  },
  {
   "cell_type": "code",
   "execution_count": 49,
   "metadata": {},
   "outputs": [
    {
     "name": "stdout",
     "output_type": "stream",
     "text": [
      "Classification Report Random Forest - with Entropy and SMOTE Upsampling: \n",
      "              precision    recall  f1-score   support\n",
      "\n",
      "      Fatal       0.92      0.97      0.94    292976\n",
      "    Serious       0.84      0.78      0.80    292603\n",
      "     Slight       0.84      0.86      0.85    293025\n",
      "\n",
      "avg / total       0.87      0.87      0.87    878604\n",
      "\n"
     ]
    }
   ],
   "source": [
    "# instantiate second RandomForestClassifier with entropy and SMOTE\n",
    "forest_2 = RandomForestClassifier(random_state=4, criterion='entropy', n_jobs=-1)\n",
    "\n",
    "# train\n",
    "forest_2.fit(X_train, y_train)\n",
    "\n",
    "# predict\n",
    "y_test_preds = forest_2.predict(X_test)\n",
    "\n",
    "# evaluate\n",
    "report = classification_report(y_test, y_test_preds)\n",
    "print('Classification Report Random Forest - with Entropy and SMOTE Upsampling: \\n', report)"
   ]
  },
  {
   "cell_type": "code",
   "execution_count": 50,
   "metadata": {},
   "outputs": [
    {
     "data": {
      "text/plain": [
       "array([0.85191661, 0.85133498, 0.85143267])"
      ]
     },
     "execution_count": 50,
     "metadata": {},
     "output_type": "execute_result"
    }
   ],
   "source": [
    "# cross-validation with F1 score (more appropriate to imbalanced classes)\n",
    "cross_val_score(forest_2, X_train, y_train, scoring='f1_macro', n_jobs=-1)"
   ]
  },
  {
   "cell_type": "code",
   "execution_count": null,
   "metadata": {},
   "outputs": [],
   "source": [
    "# create confusion matrix\n",
    "matrix = confusion_matrix(y_test, y_test_preds)\n",
    "\n",
    "# create dataframe\n",
    "class_names = df_model.Accident_Severity.values\n",
    "dataframe = pd.DataFrame(matrix, index=['Fatal', 'Serious', 'Slight'], \n",
    "                         columns=['Fatal', 'Serious', 'Slight'])\n",
    "\n",
    "# create heatmap\n",
    "sns.heatmap(dataframe, annot=True, cbar=None, cmap='Blues')\n",
    "plt.title('Confusion Matrix')\n",
    "plt.tight_layout(), plt.xlabel('True Values'), plt.ylabel('Predicted Values')\n",
    "plt.show()"
   ]
  },
  {
   "cell_type": "code",
   "execution_count": null,
   "metadata": {},
   "outputs": [],
   "source": [
    "# plot the important features\n",
    "import matplotlib.pyplot as plt\n",
    "plt.style.use('dark_background')\n",
    "%matplotlib inline\n",
    "\n",
    "feat_importances = pd.Series(forest_2.feature_importances_, index=features.columns)\n",
    "feat_importances.nlargest(10).sort_values().plot(kind='barh', color='darkgrey', figsize=(10,5))\n",
    "plt.xlabel('Relative Feature Importance with Random Forest');\n",
    "plt.show()"
   ]
  },
  {
   "cell_type": "code",
   "execution_count": null,
   "metadata": {},
   "outputs": [],
   "source": []
  },
  {
   "cell_type": "code",
   "execution_count": null,
   "metadata": {},
   "outputs": [],
   "source": []
  }
 ],
 "metadata": {
  "kernelspec": {
   "display_name": "Python 3",
   "language": "python",
   "name": "python3"
  },
  "language_info": {
   "codemirror_mode": {
    "name": "ipython",
    "version": 3
   },
   "file_extension": ".py",
   "mimetype": "text/x-python",
   "name": "python",
   "nbconvert_exporter": "python",
   "pygments_lexer": "ipython3",
   "version": "3.7.6"
  }
 },
 "nbformat": 4,
 "nbformat_minor": 1
}
